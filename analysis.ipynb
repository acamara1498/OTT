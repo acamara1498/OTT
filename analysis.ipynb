{
 "cells": [
  {
   "cell_type": "markdown",
   "metadata": {},
   "source": [
    "### Evaluation of Search Algorithms\n",
    "This notebook analyzes data generated from the five search algorithms used in the On The Town application. They are:\n",
    "* Depth-First Search\n",
    "* Breadth-First Search\n",
    "* Greedy Search\n",
    "* Uniform Cost Search\n",
    "* A Star Search\n",
    "\n",
    "The data were generated from the file `evaluation.ipynb`."
   ]
  },
  {
   "cell_type": "code",
   "execution_count": 1,
   "metadata": {},
   "outputs": [
    {
     "data": {
      "text/html": [
       "<script type=\"text/javascript\">window.PlotlyConfig = {MathJaxConfig: 'local'};</script><script type=\"text/javascript\">if (window.MathJax) {MathJax.Hub.Config({SVG: {font: \"STIX-Web\"}});}</script><script>requirejs.config({paths: { 'plotly': ['https://cdn.plot.ly/plotly-latest.min']},});if(!window._Plotly) {require(['plotly'],function(plotly) {window._Plotly=plotly;});}</script>"
      ],
      "text/vnd.plotly.v1+html": [
       "<script type=\"text/javascript\">window.PlotlyConfig = {MathJaxConfig: 'local'};</script><script type=\"text/javascript\">if (window.MathJax) {MathJax.Hub.Config({SVG: {font: \"STIX-Web\"}});}</script><script>requirejs.config({paths: { 'plotly': ['https://cdn.plot.ly/plotly-latest.min']},});if(!window._Plotly) {require(['plotly'],function(plotly) {window._Plotly=plotly;});}</script>"
      ]
     },
     "metadata": {},
     "output_type": "display_data"
    }
   ],
   "source": [
    "import pandas as pd\n",
    "import plotly\n",
    "import plotly.graph_objs as go\n",
    "from plotly.offline import download_plotlyjs, init_notebook_mode, plot, iplot\n",
    "init_notebook_mode(connected=True)\n",
    "plotly.tools.set_credentials_file(username='hangulu', api_key='xzmidZGzwl63Twl6sytL')"
   ]
  },
  {
   "cell_type": "code",
   "execution_count": 14,
   "metadata": {},
   "outputs": [],
   "source": [
    "# Read the results from the CSV file\n",
    "data = pd.read_csv(\"./data/simulation_results.csv\")"
   ]
  },
  {
   "cell_type": "code",
   "execution_count": 15,
   "metadata": {},
   "outputs": [
    {
     "data": {
      "text/html": [
       "<div>\n",
       "<style scoped>\n",
       "    .dataframe tbody tr th:only-of-type {\n",
       "        vertical-align: middle;\n",
       "    }\n",
       "\n",
       "    .dataframe tbody tr th {\n",
       "        vertical-align: top;\n",
       "    }\n",
       "\n",
       "    .dataframe thead th {\n",
       "        text-align: right;\n",
       "    }\n",
       "</style>\n",
       "<table border=\"1\" class=\"dataframe\">\n",
       "  <thead>\n",
       "    <tr style=\"text-align: right;\">\n",
       "      <th></th>\n",
       "      <th>astar_sad</th>\n",
       "      <th>astar_time</th>\n",
       "      <th>bfs_sad</th>\n",
       "      <th>bfs_time</th>\n",
       "      <th>dfs_sad</th>\n",
       "      <th>dfs_time</th>\n",
       "      <th>greedy_sad</th>\n",
       "      <th>greedy_time</th>\n",
       "      <th>party_size</th>\n",
       "      <th>ucs_sad</th>\n",
       "      <th>ucs_time</th>\n",
       "    </tr>\n",
       "  </thead>\n",
       "  <tbody>\n",
       "    <tr>\n",
       "      <th>0</th>\n",
       "      <td>17.280798</td>\n",
       "      <td>0.922846</td>\n",
       "      <td>NaN</td>\n",
       "      <td>60.002727</td>\n",
       "      <td>28.260684</td>\n",
       "      <td>0.261965</td>\n",
       "      <td>22.702997</td>\n",
       "      <td>0.254874</td>\n",
       "      <td>6</td>\n",
       "      <td>17.280798</td>\n",
       "      <td>56.156682</td>\n",
       "    </tr>\n",
       "    <tr>\n",
       "      <th>1</th>\n",
       "      <td>10.489284</td>\n",
       "      <td>0.353055</td>\n",
       "      <td>NaN</td>\n",
       "      <td>60.066073</td>\n",
       "      <td>NaN</td>\n",
       "      <td>0.116575</td>\n",
       "      <td>11.851689</td>\n",
       "      <td>0.201409</td>\n",
       "      <td>6</td>\n",
       "      <td>10.489284</td>\n",
       "      <td>15.662877</td>\n",
       "    </tr>\n",
       "    <tr>\n",
       "      <th>2</th>\n",
       "      <td>43.948272</td>\n",
       "      <td>0.037912</td>\n",
       "      <td>48.781254</td>\n",
       "      <td>0.151012</td>\n",
       "      <td>NaN</td>\n",
       "      <td>0.013806</td>\n",
       "      <td>43.948272</td>\n",
       "      <td>0.039608</td>\n",
       "      <td>2</td>\n",
       "      <td>43.948272</td>\n",
       "      <td>0.171639</td>\n",
       "    </tr>\n",
       "    <tr>\n",
       "      <th>3</th>\n",
       "      <td>30.977607</td>\n",
       "      <td>0.118330</td>\n",
       "      <td>NaN</td>\n",
       "      <td>60.100918</td>\n",
       "      <td>54.002304</td>\n",
       "      <td>0.098764</td>\n",
       "      <td>32.120024</td>\n",
       "      <td>0.095724</td>\n",
       "      <td>3</td>\n",
       "      <td>30.977607</td>\n",
       "      <td>2.680794</td>\n",
       "    </tr>\n",
       "    <tr>\n",
       "      <th>4</th>\n",
       "      <td>16.500775</td>\n",
       "      <td>0.397081</td>\n",
       "      <td>NaN</td>\n",
       "      <td>60.035823</td>\n",
       "      <td>22.037715</td>\n",
       "      <td>0.207314</td>\n",
       "      <td>17.763021</td>\n",
       "      <td>0.231683</td>\n",
       "      <td>2</td>\n",
       "      <td>16.318736</td>\n",
       "      <td>48.145084</td>\n",
       "    </tr>\n",
       "  </tbody>\n",
       "</table>\n",
       "</div>"
      ],
      "text/plain": [
       "   astar_sad  astar_time    bfs_sad   bfs_time    dfs_sad  dfs_time  \\\n",
       "0  17.280798    0.922846        NaN  60.002727  28.260684  0.261965   \n",
       "1  10.489284    0.353055        NaN  60.066073        NaN  0.116575   \n",
       "2  43.948272    0.037912  48.781254   0.151012        NaN  0.013806   \n",
       "3  30.977607    0.118330        NaN  60.100918  54.002304  0.098764   \n",
       "4  16.500775    0.397081        NaN  60.035823  22.037715  0.207314   \n",
       "\n",
       "   greedy_sad  greedy_time  party_size    ucs_sad   ucs_time  \n",
       "0   22.702997     0.254874           6  17.280798  56.156682  \n",
       "1   11.851689     0.201409           6  10.489284  15.662877  \n",
       "2   43.948272     0.039608           2  43.948272   0.171639  \n",
       "3   32.120024     0.095724           3  30.977607   2.680794  \n",
       "4   17.763021     0.231683           2  16.318736  48.145084  "
      ]
     },
     "execution_count": 15,
     "metadata": {},
     "output_type": "execute_result"
    }
   ],
   "source": [
    "data.head()"
   ]
  },
  {
   "cell_type": "markdown",
   "metadata": {},
   "source": [
    "900 tests were run. Each test was limited to 60 seconds of evaluation time, and the test itself comprised of running all 5 algorithms, sequentially, and recording:\n",
    "* whether a solution was reached\n",
    "* the time each took to reach a solution\n",
    "* the average sadness garnered by that solution. \n",
    "\n",
    "The following checks the percentage of times each algorithm returned no solution."
   ]
  },
  {
   "cell_type": "code",
   "execution_count": 5,
   "metadata": {},
   "outputs": [
    {
     "name": "stdout",
     "output_type": "stream",
     "text": [
      "DFS failed 32.0% of the time.\n",
      "BFS failed 88.88888888888889% of the time.\n",
      "Greedy Search failed 14.888888888888888% of the time.\n",
      "UCS failed 39.666666666666664% of the time.\n",
      "A* Search failed 15.88888888888889% of the time.\n"
     ]
    }
   ],
   "source": [
    "# DFS\n",
    "dfs_no_soln = (data.dfs_sad.isna().sum()) / 900.\n",
    "print \"DFS failed \" + str((dfs_no_soln * 100)) + \"% of the time.\"\n",
    "\n",
    "# BFS\n",
    "bfs_no_soln = (data.bfs_sad.isna().sum()) / 900.\n",
    "print \"BFS failed \" + str((bfs_no_soln * 100)) + \"% of the time.\"\n",
    "\n",
    "# Greedy Search\n",
    "greedy_no_soln = (data.greedy_sad.isna().sum()) / 900.\n",
    "print \"Greedy Search failed \" + str((greedy_no_soln * 100)) + \"% of the time.\"\n",
    "\n",
    "# UCS\n",
    "ucs_no_soln = (data.ucs_sad.isna().sum()) / 900.\n",
    "print \"UCS failed \" + str((ucs_no_soln * 100)) + \"% of the time.\"\n",
    "\n",
    "# A* Search\n",
    "astar_no_soln = (data.astar_sad.isna().sum()) / 900.\n",
    "print \"A* Search failed \" + str((astar_no_soln * 100)) + \"% of the time.\""
   ]
  },
  {
   "cell_type": "markdown",
   "metadata": {},
   "source": [
    "The following are the results:\n",
    "\n",
    "* DFS failed 32.000% of the time.\n",
    "* BFS failed 88.889% of the time.\n",
    "* Greedy Search failed 14.889% of the time.\n",
    "* UCS failed 39.667% of the time.\n",
    "* A* Search failed 15.889% of the time.\n",
    "\n",
    "Next, the average time elapsed at each simulation is analyzed. This analysis ignores the number of times the algorithms took more than 1 minute to complete, and thus calculates the average length of the completed solution space."
   ]
  },
  {
   "cell_type": "code",
   "execution_count": 6,
   "metadata": {},
   "outputs": [
    {
     "name": "stdout",
     "output_type": "stream",
     "text": [
      "When completed, DFS took 0.28874309963650174 seconds on average.\n",
      "When completed, BFS took 10.948256943560294 seconds on average.\n",
      "When completed, Greedy Search took 1.047404620783899 seconds on average.\n",
      "When completed, UCS took 15.10807837055115 seconds on average.\n",
      "When completed, A* Search took 3.098107170896465 seconds on average.\n"
     ]
    }
   ],
   "source": [
    "# DFS\n",
    "avg_dfs_time = (data[data.dfs_time < 60].dfs_time.sum()) / (data[data.dfs_time < 60].dfs_time.count())\n",
    "print \"When completed, DFS took \" + str(avg_dfs_time) + \" seconds on average.\"\n",
    "\n",
    "# BFS\n",
    "avg_bfs_time = (data[data.bfs_time < 60].bfs_time.sum()) / (data[data.bfs_time < 60].bfs_time.count())\n",
    "print \"When completed, BFS took \" + str(avg_bfs_time) + \" seconds on average.\"\n",
    "\n",
    "# Greedy\n",
    "avg_greedy_time = (data[data.greedy_time < 60].greedy_time.sum()) / (data[data.greedy_time < 60].greedy_time.count())\n",
    "print \"When completed, Greedy Search took \" + str(avg_greedy_time) + \" seconds on average.\"\n",
    "\n",
    "# UCS\n",
    "avg_ucs_time = (data[data.ucs_time < 60].ucs_time.sum()) / (data[data.ucs_time < 60].ucs_time.count())\n",
    "print \"When completed, UCS took \" + str(avg_ucs_time) + \" seconds on average.\"\n",
    "\n",
    "# A* Search\n",
    "avg_astar_time = (data[data.astar_time < 60].astar_time.sum()) / (data[data.astar_time < 60].astar_time.count())\n",
    "print \"When completed, A* Search took \" + str(avg_astar_time) + \" seconds on average.\""
   ]
  },
  {
   "cell_type": "markdown",
   "metadata": {},
   "source": [
    "The following are the results:\n",
    "\n",
    "* When completed, DFS took 0.289 seconds on average.\n",
    "* When completed, BFS took 10.948 seconds on average.\n",
    "* When completed, Greedy Search took 1.047 seconds on average.\n",
    "* When completed, UCS took 15.108 seconds on average.\n",
    "* When completed, A* Search took 3.0981 seconds on average.\n",
    "\n",
    "Next, the average sadness generated at each simulation is analyzed. Again, this analysis ignores the times the algorithms failed (took more than 1 minute or did not find a solution)."
   ]
  },
  {
   "cell_type": "code",
   "execution_count": 7,
   "metadata": {},
   "outputs": [
    {
     "name": "stdout",
     "output_type": "stream",
     "text": [
      "When completed, DFS produced an average sadness score of 28.1894960099.\n",
      "When completed, BFS produced an average sadness score of 26.9977561181.\n",
      "When completed, Greedy Search produced an average sadness score of 22.5920907814.\n",
      "When completed, UCS produced an average sadness score of 16.3321656619.\n",
      "When completed, A* Search produced an average sadness score of 19.0470854323.\n"
     ]
    }
   ],
   "source": [
    "# DFS\n",
    "avg_dfs_sad = data.dfs_sad.mean()\n",
    "print \"When completed, DFS produced an average sadness score of \" + str(avg_dfs_sad) + \".\"\n",
    "\n",
    "# BFS\n",
    "avg_bfs_sad = data.bfs_sad.mean()\n",
    "print \"When completed, BFS produced an average sadness score of \" + str(avg_bfs_sad) + \".\"\n",
    "\n",
    "# Greedy\n",
    "avg_greedy_sad = data.greedy_sad.mean()\n",
    "print \"When completed, Greedy Search produced an average sadness score of \" + str(avg_greedy_sad) + \".\"\n",
    "\n",
    "# UCS\n",
    "avg_ucs_sad = data.ucs_sad.mean()\n",
    "print \"When completed, UCS produced an average sadness score of \" + str(avg_ucs_sad) + \".\"\n",
    "\n",
    "# A* Search\n",
    "avg_astar_sad = data.astar_sad.mean()\n",
    "print \"When completed, A* Search produced an average sadness score of \" + str(avg_astar_sad) + \".\""
   ]
  },
  {
   "cell_type": "markdown",
   "metadata": {},
   "source": [
    "The following are the results:\n",
    "\n",
    "* When completed, DFS produced an average sadness score of 28.189.\n",
    "* When completed, BFS produced an average sadness score of 26.998.\n",
    "* When completed, Greedy Search produced an average sadness score of 22.592.\n",
    "* When completed, UCS produced an average sadness score of 16.332.\n",
    "* When completed, A* Search produced an average sadness score of 19.047.\n",
    "\n",
    "Next, the algorithms are compared graphically."
   ]
  },
  {
   "cell_type": "markdown",
   "metadata": {},
   "source": [
    "The following graphs are constructed for comparison:\n",
    "\n",
    "* bar charts comparing the number of times each algorithm fails\n",
    "* histograms showing the distribution of time each algorithm takes\n",
    "* bar charts comparing the average time each algorithm takes\n",
    "* histograms showing the distribution of sadness scores\n",
    "* bar charts comparing the average sadness scores for each algorithm"
   ]
  },
  {
   "cell_type": "code",
   "execution_count": 8,
   "metadata": {},
   "outputs": [
    {
     "data": {
      "text/html": [
       "<iframe id=\"igraph\" scrolling=\"no\" style=\"border:none;\" seamless=\"seamless\" src=\"https://plot.ly/~hangulu/101.embed\" height=\"525px\" width=\"100%\"></iframe>"
      ],
      "text/plain": [
       "<plotly.tools.PlotlyDisplay object>"
      ]
     },
     "execution_count": 8,
     "metadata": {},
     "output_type": "execute_result"
    }
   ],
   "source": [
    "# Bar chart for tests failed\n",
    "trace = {\n",
    "    'x': ['DFS', 'BFS', 'Greedy', 'UCS', 'A*'],  \n",
    "    'y': [32.0, 88.88888888888889, 14.888888888888888, 39.666666666666664, 15.88888888888889],\n",
    "    'type': 'bar',\n",
    "    'marker': dict(color='rgb(255, 121, 121)')\n",
    "}\n",
    "\n",
    "chart = [trace]\n",
    "layout = {\n",
    "    'xaxis': {'title': 'Search Algorithm'},\n",
    "    'yaxis': {'title': 'Percentage Of Tests Failed (%)'},\n",
    "    'title': 'Percentage Failure Of Each Search Algorithm'\n",
    "};\n",
    "plotly.plotly.iplot({'data': chart, 'layout': layout}, filename='fail_bar')"
   ]
  },
  {
   "cell_type": "code",
   "execution_count": 9,
   "metadata": {},
   "outputs": [
    {
     "name": "stdout",
     "output_type": "stream",
     "text": [
      "This is the format of your plot grid:\n",
      "[ (1,1) x1,y1 ]  [ (1,2) x2,y2 ]\n",
      "[ (2,1) x3,y3 ]  [ (2,2) x4,y4 ]\n",
      "[ (3,1) x5,y5 ]  [ (3,2) x6,y6 ]\n",
      "\n"
     ]
    },
    {
     "data": {
      "text/html": [
       "<iframe id=\"igraph\" scrolling=\"no\" style=\"border:none;\" seamless=\"seamless\" src=\"https://plot.ly/~hangulu/103.embed\" height=\"525px\" width=\"100%\"></iframe>"
      ],
      "text/plain": [
       "<plotly.tools.PlotlyDisplay object>"
      ]
     },
     "execution_count": 9,
     "metadata": {},
     "output_type": "execute_result"
    }
   ],
   "source": [
    "# Histogram for time\n",
    "\n",
    "dfs_time = data.dfs_time\n",
    "bfs_time = data.bfs_time\n",
    "greedy_time = data.greedy_time\n",
    "ucs_time = data.ucs_time\n",
    "astar_time = data.astar_time\n",
    "\n",
    "trace0 = go.Histogram(x=dfs_time, name='DFS')\n",
    "trace1 = go.Histogram(x=bfs_time, name='BFS')\n",
    "trace2 = go.Histogram(x=greedy_time, name='Greedy')\n",
    "trace3 = go.Histogram(x=ucs_time, name='UCS')\n",
    "trace4 = go.Histogram(x=astar_time, name='A*')\n",
    "  \n",
    "fig = plotly.tools.make_subplots(rows=3, cols=2)\n",
    "fig.append_trace(trace0, 1, 1)\n",
    "fig.append_trace(trace1, 1, 2)\n",
    "fig.append_trace(trace2, 2, 1)\n",
    "fig.append_trace(trace3, 2, 2)\n",
    "fig.append_trace(trace4, 3, 1)\n",
    "\n",
    "fig['layout']['yaxis1'].update(title='Frequency', showgrid=False)\n",
    "fig['layout']['yaxis2'].update(title='Frequency', showgrid=False)\n",
    "fig['layout']['yaxis3'].update(title='Frequency', showgrid=False)\n",
    "fig['layout']['yaxis4'].update(title='Frequency', showgrid=False)\n",
    "fig['layout']['yaxis5'].update(title='Frequency', showgrid=False)\n",
    "\n",
    "fig['layout']['xaxis1'].update(title='DFS Evaluation Time (seconds)', showgrid=False)\n",
    "fig['layout']['xaxis2'].update(title='BFS Evaluation Time (seconds)', showgrid=False)\n",
    "fig['layout']['xaxis3'].update(title='Greedy Evaluation Time (seconds)', showgrid=False)\n",
    "fig['layout']['xaxis4'].update(title='UCS Evaluation Time (seconds)', showgrid=False)\n",
    "fig['layout']['xaxis5'].update(title='A* Evaluation Time (seconds)', showgrid=False)\n",
    "fig['layout'].update(title='Distribution Of Evaluation Time For Each Search Algorithm')\n",
    "\n",
    "plotly.plotly.iplot(fig, filename='time_hist')"
   ]
  },
  {
   "cell_type": "code",
   "execution_count": 10,
   "metadata": {},
   "outputs": [
    {
     "data": {
      "text/html": [
       "<iframe id=\"igraph\" scrolling=\"no\" style=\"border:none;\" seamless=\"seamless\" src=\"https://plot.ly/~hangulu/105.embed\" height=\"525px\" width=\"100%\"></iframe>"
      ],
      "text/plain": [
       "<plotly.tools.PlotlyDisplay object>"
      ]
     },
     "execution_count": 10,
     "metadata": {},
     "output_type": "execute_result"
    }
   ],
   "source": [
    "# Bar chart for time\n",
    "trace = {\n",
    "    'x': ['DFS', 'BFS', 'Greedy', 'UCS', 'A*'],  \n",
    "    'y': [0.28874309963650174, 10.948256943560294, 1.047404620783899, 15.10807837055115, 3.098107170896465],\n",
    "    'type': 'bar',\n",
    "    'marker': dict(color='rgb(246, 229, 141)')\n",
    "}\n",
    "\n",
    "chart = [trace]\n",
    "layout = {\n",
    "    'xaxis': {'title': 'Search Algorithm'},\n",
    "    'yaxis': {'title': 'Average Evaluation Time (seconds)'},\n",
    "    'title': 'Average Evaluation Time Of Each Search Algorithm (When Complete)'\n",
    "};\n",
    "plotly.plotly.iplot({'data': chart, 'layout': layout}, filename='time_bar')"
   ]
  },
  {
   "cell_type": "code",
   "execution_count": 11,
   "metadata": {},
   "outputs": [
    {
     "name": "stdout",
     "output_type": "stream",
     "text": [
      "This is the format of your plot grid:\n",
      "[ (1,1) x1,y1 ]  [ (1,2) x2,y2 ]\n",
      "[ (2,1) x3,y3 ]  [ (2,2) x4,y4 ]\n",
      "[ (3,1) x5,y5 ]  [ (3,2) x6,y6 ]\n",
      "\n"
     ]
    },
    {
     "data": {
      "text/html": [
       "<iframe id=\"igraph\" scrolling=\"no\" style=\"border:none;\" seamless=\"seamless\" src=\"https://plot.ly/~hangulu/107.embed\" height=\"525px\" width=\"100%\"></iframe>"
      ],
      "text/plain": [
       "<plotly.tools.PlotlyDisplay object>"
      ]
     },
     "execution_count": 11,
     "metadata": {},
     "output_type": "execute_result"
    }
   ],
   "source": [
    "# Histogram for sadness\n",
    "\n",
    "dfs_sad = data.dfs_sad\n",
    "bfs_sad = data.bfs_sad\n",
    "greedy_sad = data.greedy_sad\n",
    "ucs_sad = data.ucs_sad\n",
    "astar_sad = data.astar_sad\n",
    "\n",
    "trace0 = go.Histogram(x=dfs_sad, name='DFS')\n",
    "trace1 = go.Histogram(x=bfs_sad, name='BFS')\n",
    "trace2 = go.Histogram(x=greedy_sad, name='Greedy')\n",
    "trace3 = go.Histogram(x=ucs_sad, name='UCS')\n",
    "trace4 = go.Histogram(x=astar_sad, name='A*')\n",
    "  \n",
    "fig = plotly.tools.make_subplots(rows=3, cols=2)\n",
    "fig.append_trace(trace0, 1, 1)\n",
    "fig.append_trace(trace1, 1, 2)\n",
    "fig.append_trace(trace2, 2, 1)\n",
    "fig.append_trace(trace3, 2, 2)\n",
    "fig.append_trace(trace4, 3, 1)\n",
    "\n",
    "fig['layout']['yaxis1'].update(title='Frequency', showgrid=False)\n",
    "fig['layout']['yaxis2'].update(title='Frequency', showgrid=False)\n",
    "fig['layout']['yaxis3'].update(title='Frequency', showgrid=False)\n",
    "fig['layout']['yaxis4'].update(title='Frequency', showgrid=False)\n",
    "fig['layout']['yaxis5'].update(title='Frequency', showgrid=False)\n",
    "\n",
    "fig['layout']['xaxis1'].update(title='DFS Sadness', showgrid=False)\n",
    "fig['layout']['xaxis2'].update(title='BFS Sadness', showgrid=False)\n",
    "fig['layout']['xaxis3'].update(title='Greedy Sadness', showgrid=False)\n",
    "fig['layout']['xaxis4'].update(title='UCS Sadness', showgrid=False)\n",
    "fig['layout']['xaxis5'].update(title='A* Sadness', showgrid=False)\n",
    "fig['layout'].update(title='Distribution Of Sadness For Each Search Algorithm')\n",
    "\n",
    "plotly.plotly.iplot(fig, filename='sad_hist')"
   ]
  },
  {
   "cell_type": "code",
   "execution_count": 12,
   "metadata": {},
   "outputs": [
    {
     "data": {
      "text/html": [
       "<iframe id=\"igraph\" scrolling=\"no\" style=\"border:none;\" seamless=\"seamless\" src=\"https://plot.ly/~hangulu/109.embed\" height=\"525px\" width=\"100%\"></iframe>"
      ],
      "text/plain": [
       "<plotly.tools.PlotlyDisplay object>"
      ]
     },
     "execution_count": 12,
     "metadata": {},
     "output_type": "execute_result"
    }
   ],
   "source": [
    "# Bar chart for sadness\n",
    "trace = {\n",
    "    'x': ['DFS', 'BFS', 'Greedy', 'UCS', 'A*'],  \n",
    "    'y': [28.1894960099, 26.9977561181, 22.5920907814, 16.3321656619, 19.0470854323],\n",
    "    'type': 'bar',\n",
    "    'marker': dict(color='rgb(186, 220, 88)')\n",
    "}\n",
    "\n",
    "chart = [trace]\n",
    "layout = {\n",
    "    'xaxis': {'title': 'Search Algorithm'},\n",
    "    'yaxis': {'title': 'Average Sadness'},\n",
    "    'title': 'Average Sadness Of Each Search Algorithm (When Complete)'\n",
    "};\n",
    "plotly.plotly.iplot({'data': chart, 'layout': layout}, filename='sad_bar')"
   ]
  },
  {
   "cell_type": "markdown",
   "metadata": {},
   "source": [
    "The results are discussed in detail in the **Results** section of the accompanying paper, but in short, Greedy Search is the best algorithm for this problem given its reliability (low percentage of failures), speed (second fastest), and effectiveness (third most satisfactory)."
   ]
  },
  {
   "cell_type": "code",
   "execution_count": null,
   "metadata": {},
   "outputs": [],
   "source": []
  }
 ],
 "metadata": {
  "kernelspec": {
   "display_name": "Python 2",
   "language": "python",
   "name": "python2"
  },
  "language_info": {
   "codemirror_mode": {
    "name": "ipython",
    "version": 2
   },
   "file_extension": ".py",
   "mimetype": "text/x-python",
   "name": "python",
   "nbconvert_exporter": "python",
   "pygments_lexer": "ipython2",
   "version": "2.7.15"
  }
 },
 "nbformat": 4,
 "nbformat_minor": 2
}
